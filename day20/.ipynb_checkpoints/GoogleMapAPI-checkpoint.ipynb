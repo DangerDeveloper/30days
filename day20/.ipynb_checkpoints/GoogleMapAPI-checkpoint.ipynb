{
 "cells": [
  {
   "cell_type": "code",
   "execution_count": 1,
   "metadata": {},
   "outputs": [],
   "source": [
    "from urllib.parse import urlencode, urlparse, parse_qsl\n",
    "import requests"
   ]
  },
  {
   "cell_type": "code",
   "execution_count": 2,
   "metadata": {},
   "outputs": [],
   "source": [
    "GOOGLE_API_KEY = 'abc'\n",
    "# I use Chat Bat project in Google cloud Platform"
   ]
  },
  {
   "cell_type": "markdown",
   "metadata": {},
   "source": [
    "## Google Maps Client API"
   ]
  },
  {
   "cell_type": "code",
   "execution_count": 3,
   "metadata": {},
   "outputs": [],
   "source": [
    "class GoogleMapsClient(object):\n",
    "    lat = None\n",
    "    lng = None\n",
    "    data_type = 'json'\n",
    "    location_query = None\n",
    "    api_key=None\n",
    "    \n",
    "    def __init__(self, api_key=None, address_or_postal_code=None, *args, **kwargs):\n",
    "        super().__init__(*args, **kwargs)\n",
    "        if api_key is None:\n",
    "            raise Exception(\"API Key is Required\")\n",
    "        self.api_key = api_key\n",
    "        self.location_query = address_or_postal_code\n",
    "        if self.location_query is not None:\n",
    "            self.extract_lat_lng()\n",
    "    \n",
    "    def extract_lat_lng(self, location=None):\n",
    "        loc_query = self.location_query\n",
    "        if location is not None:\n",
    "            loc_query = location\n",
    "        endpoint = f'https://maps.googleapis.com/maps/api/geocode/{self.data_type}'\n",
    "        params = {'address': loc_query, 'key': self.api_key}\n",
    "        url_params = urlencode(params)\n",
    "        url = f'{endpoint}?{url_params}'\n",
    "        r = requests.get(url)\n",
    "        if r.status_code not in range(200, 299):\n",
    "            return {}\n",
    "        latlng = {}\n",
    "        try:\n",
    "            latlng = r.json()['results'][0]['geometry']['location']\n",
    "        except:\n",
    "            pass\n",
    "        lat, lng = latlng.get('lat'), latlng.get('lng')\n",
    "        self.lat = lat\n",
    "        self.lng = lng\n",
    "        return lat, lng\n",
    "    \n",
    "    def search(self, keyword='Mexican food', radius=1000, location=None):\n",
    "        lat, lng = self.lat, self.lng \n",
    "        if location is not None:\n",
    "            lat, lng = self.extract_lat_lng(location=location)\n",
    "        endpoint = f'https://maps.googleapis.com/maps/api/place/nearbysearch/{self.data_type}'\n",
    "        params = {\n",
    "            \"key\": self.api_key,\n",
    "            \"location\": f\"{self.lat},{self.lng}\",\n",
    "            \"radius\": radius,\n",
    "            \"keyword\": keyword\n",
    "        }\n",
    "\n",
    "        params_encoded = urlencode(params)\n",
    "\n",
    "        place_url = f\"{endpoint}?{params_encoded}\"\n",
    "        r = requests.get(place_url)\n",
    "        if r.status_code not in range(200, 299):\n",
    "            return {}\n",
    "        return r.json()\n",
    "    \n",
    "    def detail(self, place_id='ChIJ-U-Z6mI4nDkRZa_lTpeRclg', fields=['name','rating','formatted_phone_number'], append=False):\n",
    "        endpoint = \"https://maps.googleapis.com/maps/api/place/details/json\"\n",
    "        if append:\n",
    "            fields = ['name','rating','formatted_phone_number'] + fields\n",
    "#             print(fields)\n",
    "#             res = [] \n",
    "#             [res.append(x) for x in fields if x not in res]\n",
    "#             print(res)\n",
    "            fields = list(set(fields))\n",
    "        params = {\n",
    "            \"key\": self.api_key,\n",
    "            \"place_id\": f\"{place_id}\",\n",
    "            \"fields\": ','.join(fields)\n",
    "        }\n",
    "\n",
    "        params_encoded = urlencode(params)\n",
    "        url = f\"{endpoint}?{params_encoded}\"\n",
    "        r = requests.get(url)\n",
    "        if r.status_code not in range(200, 299):\n",
    "            return {}\n",
    "        return r.json()"
   ]
  },
  {
   "cell_type": "code",
   "execution_count": 4,
   "metadata": {},
   "outputs": [
    {
     "name": "stdout",
     "output_type": "stream",
     "text": [
      "None None\n"
     ]
    }
   ],
   "source": [
    "client = GoogleMapsClient(api_key=GOOGLE_API_KEY, address_or_postal_code='kalyanpur, kanpur')\n",
    "print(client.lat, client.lng)"
   ]
  },
  {
   "cell_type": "code",
   "execution_count": 5,
   "metadata": {},
   "outputs": [],
   "source": [
    "# client.search(keyword='pizza', location='khandari, Agra')"
   ]
  },
  {
   "cell_type": "code",
   "execution_count": 6,
   "metadata": {},
   "outputs": [
    {
     "data": {
      "text/plain": [
       "{'error_message': 'The provided API key is invalid.',\n",
       " 'html_attributions': [],\n",
       " 'status': 'REQUEST_DENIED'}"
      ]
     },
     "execution_count": 6,
     "metadata": {},
     "output_type": "execute_result"
    }
   ],
   "source": [
    "client.detail(place_id='ChIJKzDCjrd3dDkRTa3azbGuEb8', fields=['website', 'rating'], append=True)"
   ]
  },
  {
   "cell_type": "code",
   "execution_count": null,
   "metadata": {},
   "outputs": [],
   "source": []
  }
 ],
 "metadata": {
  "kernelspec": {
   "display_name": "Python 3",
   "language": "python",
   "name": "python3"
  },
  "language_info": {
   "codemirror_mode": {
    "name": "ipython",
    "version": 3
   },
   "file_extension": ".py",
   "mimetype": "text/x-python",
   "name": "python",
   "nbconvert_exporter": "python",
   "pygments_lexer": "ipython3",
   "version": "3.8.5"
  }
 },
 "nbformat": 4,
 "nbformat_minor": 4
}
