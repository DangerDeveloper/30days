{
 "cells": [
  {
   "cell_type": "code",
   "execution_count": 1,
   "metadata": {},
   "outputs": [],
   "source": [
    "from requests_html import HTML\n",
    "import re\n",
    "import time\n",
    "from selenium import webdriver\n",
    "from selenium.webdriver.chrome.options import Options"
   ]
  },
  {
   "cell_type": "code",
   "execution_count": 2,
   "metadata": {},
   "outputs": [],
   "source": [
    "options = Options()\n",
    "options.add_argument('--headless')\n",
    "driver = webdriver.Chrome(options=options)"
   ]
  },
  {
   "cell_type": "code",
   "execution_count": 1,
   "metadata": {},
   "outputs": [],
   "source": [
    "categories = [\n",
    "    {'name': 'electronics', 'url': 'https://www.amazon.in/gp/bestsellers/electronics/'},\n",
    "    {'name': 'baby', 'url': 'https://www.amazon.in/gp/bestsellers/baby/'},\n",
    "    {'name': 'apparel', 'url': 'https://www.amazon.in/gp/bestsellers/apparel/'}\n",
    "]\n",
    "title_lookup = \"#productTitle\"\n",
    "price_lookup = \"#priceblock_ourprice\""
   ]
  },
  {
   "cell_type": "code",
   "execution_count": null,
   "metadata": {},
   "outputs": [],
   "source": [
    "regex_options = [\n",
    "    r'https://www.amazon.in/gp/product/(?P<product_id>[\\w-]+)/',\n",
    "    r'https://www.amazon.in/dp/(?P<product_id>[\\w-]+)/',\n",
    "    r'https://www.amazon.in/(?P<slug>[\\w-]+)/dp/(?P<product_id>[\\w-]+)/',\n",
    "]\n",
    "\n",
    "def extract_product_id_from_url(url):\n",
    "    product_id = None\n",
    "    for regex_str in regex_options:\n",
    "        regex = re.compile(regex_str)\n",
    "        match = regex.match(url)\n",
    "        if match != None:\n",
    "            try:\n",
    "                product_id = match['product_id']\n",
    "            except:\n",
    "                pass\n",
    "    return product_id"
   ]
  },
  {
   "cell_type": "code",
   "execution_count": null,
   "metadata": {},
   "outputs": [],
   "source": [
    "def scrace_category_product_links(categories=[]):\n",
    "    for categorie in categories:\n",
    "        time.sleep(1.5)\n",
    "        url = categorie.get('url')\n",
    "        driver.get(url)\n",
    "        body_el = driver.find_element_by_css_selector('body')\n",
    "        html_str = body_el.get_attribute('innerHTML')\n",
    "        html_obj = HTML(html=html_str)\n",
    "        page_links = [f'https://www.amazon.in{x}' for x in html_obj.links if x.startswith('/')]"
   ]
  },
  {
   "cell_type": "code",
   "execution_count": 6,
   "metadata": {},
   "outputs": [],
   "source": [
    "def scrape_product_page(url, title_lookup = \"#productTitle\", price_lookup = \"#priceblock_ourprice\"):\n",
    "    driver.get(url)\n",
    "    time.sleep(1.2)\n",
    "    body_el = driver.find_element_by_css_selector('body')\n",
    "    html_str = body_el.get_attribute('innerHTML')\n",
    "    html_obj = HTML(html=html_str)\n",
    "    product_title = html_obj.find(title_lookup, first=True).text\n",
    "    product_price = html_obj.find(price_lookup, first=True).text\n",
    "    return product_title, product_price"
   ]
  },
  {
   "cell_type": "code",
   "execution_count": 8,
   "metadata": {},
   "outputs": [],
   "source": [
    "def clean_page_links(page_links=[]):\n",
    "    final_page_links = []\n",
    "    for url in page_links:\n",
    "        product_id = extract_product_id_from_url(url)\n",
    "        if product_id != None:\n",
    "            final_page_links.append({'url': url, 'product_id': product_id})\n",
    "    return final_page_links\n",
    "\n",
    "cleaned_links = clean_page_links(page_links)"
   ]
  },
  {
   "cell_type": "code",
   "execution_count": 9,
   "metadata": {},
   "outputs": [],
   "source": [
    "def perform_scrape(cleaned_item=[]):\n",
    "    data_extracted = []\n",
    "    for obj in cleaned_item:\n",
    "        link = obj['url']\n",
    "        product_id = obj['product_id']\n",
    "        title, price = (None, None)\n",
    "        try:\n",
    "            title, price = scrape_product_page(link)\n",
    "        except:\n",
    "            pass\n",
    "        if title != None and price != None:\n",
    "            print(link, title, price)\n",
    "        product_data = {\n",
    "            'url': link,\n",
    "            'product_id': product_id,\n",
    "            'title': title,\n",
    "            'price': price\n",
    "        }\n",
    "        data_extracted.append(product_data)\n",
    "    return data_extracted"
   ]
  },
  {
   "cell_type": "code",
   "execution_count": null,
   "metadata": {},
   "outputs": [
    {
     "name": "stdout",
     "output_type": "stream",
     "text": [
      "https://www.amazon.in/Dazzling-Storage-Additional-Exchange-Offers/dp/B07SDPJ4XJ/ref=zg_bs_electronics_19/257-0070257-0737949?_encoding=UTF8&psc=1&refRID=7A6G930A6DZTG1EJHAMP OPPO A5 2020 (Dazzling White, 4GB RAM, 64GB Storage) with No Cost EMI/Additional Exchange Offers ₹ 11,990.00\n",
      "https://www.amazon.in/JBL-C50HI-Ear-Headphones-Black/dp/B07JQKQ91F/ref=zg_bs_electronics_43/257-0070257-0737949?_encoding=UTF8&psc=1&refRID=7A6G930A6DZTG1EJHAMP JBL C50HI in-Ear Headphones with Mic (Black) ₹ 499.00\n",
      "https://www.amazon.in/Logitech-B170-Wireless-Mouse-Black/dp/B01J0XWYKQ/ref=zg_bs_electronics_46/257-0070257-0737949?_encoding=UTF8&psc=1&refRID=7A6G930A6DZTG1EJHAMP Logitech B170 Wireless Mouse, 2.4 GHz with USB Nano Receiver, Optical Tracking, 12-Months Battery Life, Ambidextrous, PC/Mac/Laptop - Black ₹ 645.00\n",
      "https://www.amazon.in/Samsung-Galaxy-Storage-Additional-Exchange/dp/B086KCDGTQ/ref=zg_bs_electronics_16/257-0070257-0737949?_encoding=UTF8&psc=1&refRID=7A6G930A6DZTG1EJHAMP Samsung Galaxy M01 (Blue, 3GB RAM, 32GB Storage) with No Cost EMI/Additional Exchange Offers ₹ 8,399.00\n",
      "https://www.amazon.in/Redmi-8A-Dual-Blue-Storage/dp/B07X4R63DF/ref=zg_bs_electronics_13/257-0070257-0737949?_encoding=UTF8&psc=1&refRID=7A6G930A6DZTG1EJHAMP Redmi 8A Dual (Sea Blue, 2GB RAM, 32GB Storage) – Dual Cameras & 5,000 mAH Battery ₹ 7,499.00\n",
      "https://www.amazon.in/boAt-BassHeads-100-Headphones-Black/dp/B071Z8M4KX/ref=zg_bs_electronics_6/257-0070257-0737949?_encoding=UTF8&psc=1&refRID=7A6G930A6DZTG1EJHAMP boAt BassHeads 100 in-Ear Wired Earphones with Super Extra Bass, in-line Mic, Hawk Inspired Design and Perfect Length Cable (Black) ₹ 379.00\n",
      "https://www.amazon.in/Airdopes-441-Technology-Immersive-Resistance/dp/B086WM3RB8/ref=zg_bs_electronics_45/257-0070257-0737949?_encoding=UTF8&psc=1&refRID=7A6G930A6DZTG1EJHAMP boAt Airdopes 441 TWS Ear-Buds with IWP Technology, Immersive Audio, Up to 30H Total Playback, IPX7 Water Resistance, Super Touch Controls, Secure Sports Fit & Type-C Port(Active Black) ₹ 2,499.00\n",
      "https://www.amazon.in/Philips-SHE1505BK-94-Upbeat-Earphones/dp/B07MZQ5F8S/ref=zg_bs_electronics_34/257-0070257-0737949?_encoding=UTF8&psc=1&refRID=7A6G930A6DZTG1EJHAMP&smid=A14CZOWI0VEHLG Philips SHE1505BK/94 Upbeat Earphones with Mic (Black) ₹ 299.00\n",
      "https://www.amazon.in/Test-Exclusive-719/dp/B07DJCJBBN/ref=zg_bs_electronics_5/257-0070257-0737949?_encoding=UTF8&psc=1&refRID=7A6G930A6DZTG1EJHAMP Samsung Galaxy M31s (Mirage Blue, 8GB RAM, 128GB Storage) ₹ 21,499.00\n",
      "https://www.amazon.in/Tangent-Lite-Magnetic-Bluetooth-Headphones/dp/B085W8CFLH/ref=zg_bs_electronics_41/257-0070257-0737949?_encoding=UTF8&psc=1&refRID=7A6G930A6DZTG1EJHAMP&smid=A14CZOWI0VEHLG pTron Tangent Lite Magnetic in-Ear Wireless Bluetooth Headphones with Mic - (Black) ₹ 649.00\n",
      "https://www.amazon.in/BassHeads-225-Super-Extra-Headphones/dp/B01M9C51T9/ref=zg_bs_electronics_14/257-0070257-0737949?_encoding=UTF8&psc=1&refRID=7A6G930A6DZTG1EJHAMP boAt BassHeads 225 in-Ear Wired Earphones with Super Extra Bass, Metallic Finish, Tangle-Free Cable and Gold Plated Angled Jack (Black) ₹ 529.00\n",
      "https://www.amazon.in/realme-Classic-Earphones-Microphone-Organiser/dp/B08G28Z33M/ref=zg_bs_electronics_37/257-0070257-0737949?_encoding=UTF8&psc=1&refRID=7A6G930A6DZTG1EJHAMP realme Buds Classic Wired Earphones with 14.2mm Driver, in-line HD Microphone, Organiser Cable, and Tangle Free Design Black ₹ 399.00\n",
      "https://www.amazon.in/JBL-C50HI-Ear-Headphones-Blue/dp/B07JQKR35P/ref=zg_bs_electronics_30/257-0070257-0737949?_encoding=UTF8&psc=1&refRID=7A6G930A6DZTG1EJHAMP JBL C50HI in-Ear Headphones with Mic (Blue) ₹ 499.00\n",
      "https://www.amazon.in/Boat-BassHeads-100-Inspired-Earphones/dp/B07GQD4K6L/ref=zg_bs_electronics_18/257-0070257-0737949?_encoding=UTF8&psc=1&refRID=7A6G930A6DZTG1EJHAMP boAt BassHeads 100 in-Ear Wired Earphones with Super Extra Bass, in-line Mic, Hawk Inspired Design and Perfect Length Cable (Furious Red) ₹ 379.00\n",
      "https://www.amazon.in/POPIO-Tempered-Samsung-Transparent-Coverage/dp/B08547T1SD/ref=zg_bs_electronics_40/257-0070257-0737949?_encoding=UTF8&psc=1&refRID=7A6G930A6DZTG1EJHAMP POPIO Tempered Glass for Samsung Galaxy M31/ Samsung Galaxy M21 (Transparent) Full Screen Coverage (except edges), Pack of 1 ₹ 150.00\n",
      "https://www.amazon.in/OnePlus-Bullets-Wireless-Bluetooth-Earphones/dp/B087VNBXP5/ref=zg_bs_electronics_31/257-0070257-0737949?_encoding=UTF8&psc=1&refRID=7A6G930A6DZTG1EJHAMP OnePlus Bullets Wireless Z in-Ear Bluetooth Earphones with Mic (Mint) ₹ 1,999.00\n",
      "https://www.amazon.in/JBL-C100SI-Ear-Headphones-Black/dp/B01DEWVZ2C/ref=zg_bs_electronics_22/257-0070257-0737949?_encoding=UTF8&psc=1&refRID=7A6G930A6DZTG1EJHAMP JBL C100SI In-Ear Deep Bass Headphones with Mic (Black) ₹ 699.00\n",
      "https://www.amazon.in/Redmi-Note-Arctic-White-Storage/dp/B086982ZKF/ref=zg_bs_electronics_28/257-0070257-0737949?_encoding=UTF8&psc=1&refRID=7A6G930A6DZTG1EJHAMP Redmi Note 9 (Arctic White, 4GB RAM, 64GB Storage) - 48MP Quad Camera & Full HD+ Display ₹ 11,999.00\n",
      "https://www.amazon.in/OnePlus-E501A-Buds-White/dp/B08CVMXPGY/ref=zg_bs_electronics_47/257-0070257-0737949?_encoding=UTF8&psc=1&refRID=7A6G930A6DZTG1EJHAMP OnePlus Buds (White) ₹ 4,990.00\n"
     ]
    }
   ],
   "source": [
    "x = perform_scrape(cleaned_links)"
   ]
  },
  {
   "cell_type": "code",
   "execution_count": null,
   "metadata": {},
   "outputs": [],
   "source": [
    "print(x)"
   ]
  },
  {
   "cell_type": "code",
   "execution_count": null,
   "metadata": {},
   "outputs": [],
   "source": []
  }
 ],
 "metadata": {
  "kernelspec": {
   "display_name": "Python 3",
   "language": "python",
   "name": "python3"
  },
  "language_info": {
   "codemirror_mode": {
    "name": "ipython",
    "version": 3
   },
   "file_extension": ".py",
   "mimetype": "text/x-python",
   "name": "python",
   "nbconvert_exporter": "python",
   "pygments_lexer": "ipython3",
   "version": "3.8.5"
  }
 },
 "nbformat": 4,
 "nbformat_minor": 4
}
