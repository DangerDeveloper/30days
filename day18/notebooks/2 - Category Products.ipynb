{
 "cells": [
  {
   "cell_type": "code",
   "execution_count": null,
   "metadata": {},
   "outputs": [],
   "source": [
    "from requests_html import HTML\n",
    "import time\n",
    "from selenium import webdriver\n",
    "from selenium.webdriver.chrome.options import Options"
   ]
  },
  {
   "cell_type": "code",
   "execution_count": null,
   "metadata": {},
   "outputs": [],
   "source": [
    "options = Options()\n",
    "options.add_argument('--headless')\n",
    "\n",
    "driver = webdriver.Chrome(options=options)"
   ]
  },
  {
   "cell_type": "code",
   "execution_count": null,
   "metadata": {},
   "outputs": [],
   "source": [
    "categories = [\n",
    "    \"https://www.amazon.in/gp/bestsellers/electronics/ref=zg_bs_nav_0\",\n",
    "    \"https://www.amazon.in/gp/bestsellers/baby/ref=zg_bs_nav_0\",\n",
    "    \"https://www.amazon.in/gp/bestsellers/apparel/ref=zg_bs_nav_0\"\n",
    "]\n",
    "title_lookup = \"#productTitle\"\n",
    "price_lookup = \"#priceblock_ourprice\"\n"
   ]
  },
  {
   "cell_type": "code",
   "execution_count": null,
   "metadata": {},
   "outputs": [],
   "source": [
    "# categories"
   ]
  },
  {
   "cell_type": "code",
   "execution_count": null,
   "metadata": {},
   "outputs": [],
   "source": [
    "first_url = categories[0]"
   ]
  },
  {
   "cell_type": "code",
   "execution_count": null,
   "metadata": {},
   "outputs": [],
   "source": [
    "driver.get(first_url)"
   ]
  },
  {
   "cell_type": "code",
   "execution_count": 7,
   "metadata": {},
   "outputs": [],
   "source": [
    "body_el = driver.find_element_by_css_selector('body')\n",
    "html_str = body_el.get_attribute('innerHTML')"
   ]
  },
  {
   "cell_type": "code",
   "execution_count": 8,
   "metadata": {},
   "outputs": [],
   "source": [
    "html_obj = HTML(html=html_str)"
   ]
  },
  {
   "cell_type": "code",
   "execution_count": 9,
   "metadata": {},
   "outputs": [],
   "source": [
    "new_links = [x for x in html_obj.links if x.startswith('/')]\n",
    "new_links = [x for x in new_links if 'product-reviews/' not in x]"
   ]
  },
  {
   "cell_type": "code",
   "execution_count": 10,
   "metadata": {},
   "outputs": [
    {
     "data": {
      "text/plain": [
       "['https://www.amazon.in/ref=footer_logo',\n",
       " 'https://www.amazon.in/b/?_encoding=UTF8&node=3677697031&ref_=sv_top_elec_mega_8',\n",
       " 'https://www.amazon.in/Cosmic-Byte-Headphones-Laptop-Android/dp/B074123WSD/ref=zg_bs_electronics_50/259-2211892-7611214?_encoding=UTF8&psc=1&refRID=DCFV8K75XPR9G08BZBFY',\n",
       " 'https://www.amazon.in/Samsung-Galaxy-Storage-Additional-Exchange/dp/B086KCDGTQ/ref=zg_bs_electronics_28/259-2211892-7611214?_encoding=UTF8&psc=1&refRID=DCFV8K75XPR9G08BZBFY',\n",
       " 'https://www.amazon.in/prime/ref=nav_tooltip_redirect/259-2211892-7611214',\n",
       " 'https://www.amazon.in/wishlist/universal?ref_=nav_ListFlyout_gno_listpop_uwl',\n",
       " 'https://www.amazon.in/gp/customer-preferences/select-language/ref=topnav_lang_t1?preferencesReturnUrl=%2Fgp%2Fbestsellers%2Felectronics%2Fref%3Dzg_bs_nav_0',\n",
       " 'https://www.amazon.in/b/?_encoding=UTF8&node=13773797031&ref_=sv_top_elec_mega_7',\n",
       " 'https://www.amazon.in/SanDisk-Ultra-Dual-64GB-Drive/dp/B0734W8FGG/ref=zg_bs_electronics_31/259-2211892-7611214?_encoding=UTF8&psc=1&refRID=DCFV8K75XPR9G08BZBFY',\n",
       " 'https://www.amazon.in/b/?_encoding=UTF8&node=1389335031&ref_=sv_top_elec_mega_4',\n",
       " 'https://www.amazon.in/POPIO-Tempered-Samsung-Transparent-Coverage/dp/B08547T1SD/ref=zg_bs_electronics_37/259-2211892-7611214?_encoding=UTF8&psc=1&refRID=DCFV8K75XPR9G08BZBFY',\n",
       " 'https://www.amazon.in/ELV-PS2-Mobile-Stand-Black/dp/B0762JYGDP/ref=zg_bs_electronics_34/259-2211892-7611214?_encoding=UTF8&psc=1&refRID=DCFV8K75XPR9G08BZBFY',\n",
       " 'https://www.amazon.in/gp/customer-preferences/select-language/ref=footer_lang_t1?ie=UTF8&preferencesReturnUrl=%2F',\n",
       " 'https://www.amazon.in/Test-Exclusive-712/dp/B07DJCJBB3/ref=zg_bs_electronics_9/259-2211892-7611214?_encoding=UTF8&psc=1&refRID=DCFV8K75XPR9G08BZBFY',\n",
       " 'https://www.amazon.in/gp/help/customer/display.html?ie=UTF8&nodeId=200507590&ref_=footer_gw_m_b_he',\n",
       " 'https://www.amazon.in/gp/redirect.html?location=https%3A%2F%2Fwww.primevideo.com%2F%3Fref_%3D_apv&source=nav_linktree&token=13D4F90D28CD96790B94E6091246BB1B2AE9FA05',\n",
       " 'https://www.amazon.in/b/?_encoding=UTF8&node=1389375031&ref_=sv_top_elec_mega_3',\n",
       " 'https://www.amazon.in/gp/new-releases/?ref_=nav_cs_newreleases',\n",
       " 'https://www.amazon.in/gp/yourstore?ref_=nav_AccountFlyout_recs',\n",
       " 'https://www.amazon.in/Test-Exclusive-719/dp/B07DJCJBBN/ref=zg_bs_electronics_4/259-2211892-7611214?_encoding=UTF8&psc=1&refRID=DCFV8K75XPR9G08BZBFY',\n",
       " 'https://www.amazon.in/gp/css/returns/homepage.html?ie=UTF8&ref_=footer_hy_f_4',\n",
       " 'https://www.amazon.in/OnePlus-Bullets-Wireless-Bluetooth-Earphones/dp/B086CVBD11/ref=zg_bs_electronics_39/259-2211892-7611214?_encoding=UTF8&psc=1&refRID=DCFV8K75XPR9G08BZBFY',\n",
       " 'https://www.amazon.in/gp/sva/dashboard?ref_=nav_cs_apay',\n",
       " 'https://www.amazon.in/hz5/yourmembershipsandsubscriptions?ref_=nav_AccountFlyout_digital_subscriptions',\n",
       " 'https://www.amazon.in/Prosmart-Aluminium-Adjustable-Portable-Foldable/dp/B07XYWVTHL/ref=zg_bs_electronics_30/259-2211892-7611214?_encoding=UTF8&psc=1&refRID=DCFV8K75XPR9G08BZBFY',\n",
       " 'https://www.amazon.in/All-new-Echo-Dot-3rd-Gen/dp/B07PFFMP9P/ref=zg_bs_electronics_29/259-2211892-7611214?_encoding=UTF8&psc=1&refRID=DCFV8K75XPR9G08BZBFY&smid=AT95IG9ONZD7S',\n",
       " 'https://www.amazon.in/gp/help/customer/display.html?nodeId=200507590&ref_=nav_cs_help',\n",
       " 'https://www.amazon.in/Dazzling-Storage-Additional-Exchange-Offers/dp/B07SDPJ4XJ/ref=zg_bs_electronics_18/259-2211892-7611214?_encoding=UTF8&psc=1&refRID=DCFV8K75XPR9G08BZBFY',\n",
       " 'https://www.amazon.in/gp/help/customer/display.html?ie=UTF8&nodeId=201083470&ref_=footer_swc',\n",
       " 'https://www.amazon.in/OnePlus-E501A-Buds-Gray/dp/B08CVP7LCC/ref=zg_bs_electronics_22/259-2211892-7611214?_encoding=UTF8&psc=1&refRID=DCFV8K75XPR9G08BZBFY',\n",
       " 'https://www.amazon.in/b/?_encoding=UTF8&node=2454172031&ref_=sv_top_elec_mega_9',\n",
       " 'https://www.amazon.in/Nokia-105-TA-1203-SS-%E0%A4%95%E0%A4%BE%E0%A4%B2%E0%A5%87/dp/B07YYNX5X6/ref=zg_bs_electronics_33/259-2211892-7611214?_encoding=UTF8&psc=1&refRID=DCFV8K75XPR9G08BZBFY',\n",
       " 'https://www.amazon.in/gp/BIT/theamazonapp/ref=footer_assistant_download_copy',\n",
       " 'https://www.amazon.in/gp/registry/search.html?type=wishlist&ref_=nav_ListFlyout_gno_listpop_find',\n",
       " 'https://www.amazon.in/b?ie=UTF8&node=6967393031&ref_=footer_mobapp',\n",
       " 'https://www.amazon.in/b/?_encoding=UTF8&ld=AZINSOANavDesktopFooter&node=2838698031&ref_=nav_footer_sell',\n",
       " 'https://www.amazon.in/b/?_encoding=UTF8&node=6967393031&ref_=nav_swm_swm_generic&pf_rd_p=2826cf3d-5e81-4be2-8bc2-324a6e33ea99&pf_rd_s=nav-sitewide-msg&pf_rd_t=4201&pf_rd_i=navbar-4201&pf_rd_m=A21TJRUUN4KGV&pf_rd_r=DCFV8K75XPR9G08BZBFY',\n",
       " 'https://www.amazon.in/JBL-C50HI-Ear-Headphones-Blue/dp/B07JQKR35P/ref=zg_bs_electronics_25/259-2211892-7611214?_encoding=UTF8&psc=1&refRID=DCFV8K75XPR9G08BZBFY',\n",
       " 'https://www.amazon.in/Philips-SHE1505BK-94-Upbeat-Earphones/dp/B07MZQ5F8S/ref=zg_bs_electronics_44/259-2211892-7611214?_encoding=UTF8&psc=1&refRID=DCFV8K75XPR9G08BZBFY&smid=A14CZOWI0VEHLG',\n",
       " 'https://www.amazon.in/Boat-BassHeads-100-Inspired-Earphones/dp/B07GPXXNNG/ref=zg_bs_electronics_46/259-2211892-7611214?_encoding=UTF8&psc=1&refRID=DCFV8K75XPR9G08BZBFY',\n",
       " 'https://www.amazon.in/BassHeads-225-Super-Extra-Headphones/dp/B01M9C51T9/ref=zg_bs_electronics_13/259-2211892-7611214?_encoding=UTF8&psc=1&refRID=DCFV8K75XPR9G08BZBFY',\n",
       " 'https://www.amazon.in/Redmi-Note-Pebble-Grey-Storage/dp/B086977TR6/ref=zg_bs_electronics_1/259-2211892-7611214?_encoding=UTF8&psc=1&refRID=DCFV8K75XPR9G08BZBFY',\n",
       " 'https://www.amazon.in/b?ie=UTF8&node=1592137031&ref_=footer_press',\n",
       " 'https://www.amazon.in/Baby/b/?ie=UTF8&node=1571274031&ref_=nav_cs_baby',\n",
       " 'https://www.amazon.in/Samsung-Galaxy-Ocean-128GB-Storage/dp/B07HGGYWL6/ref=zg_bs_electronics_2/259-2211892-7611214?_encoding=UTF8&psc=1&refRID=DCFV8K75XPR9G08BZBFY',\n",
       " 'https://www.amazon.in/b?ie=UTF8&node=8872558031&ref_=footer_cares',\n",
       " 'https://www.amazon.in/Amazon-FireTVStick-Alexa-Voice-Remote-Streaming-Player/dp/B0791YHVMK/ref=zg_bs_electronics_26/259-2211892-7611214?_encoding=UTF8&psc=1&refRID=DCFV8K75XPR9G08BZBFY',\n",
       " 'https://www.amazon.in/gcx/-/gfhz/?ref_=nav_cs_giftfinder',\n",
       " 'https://www.amazon.in/gp/registry/wishlist?triggerElementID=createList&ref_=nav_ListFlyout_gno_createwl',\n",
       " 'https://www.amazon.in/Redmi-8A-Dual-Blue-Storage/dp/B07X4R63DF/ref=zg_bs_electronics_11/259-2211892-7611214?_encoding=UTF8&psc=1&refRID=DCFV8K75XPR9G08BZBFY',\n",
       " 'https://www.amazon.in/discover/?ref_=nav_ListFlyout_sbl',\n",
       " 'https://www.amazon.in/gp/registry/wishlist?requiresSignIn=1&ref_=nav_AccountFlyout_wl',\n",
       " 'https://www.amazon.in/SM-M315FZKGINS-Samsung-Galaxy-M31-%E0%A4%95%E0%A4%BE%E0%A4%B2%E0%A4%BE/dp/B07HGN617M/ref=zg_bs_electronics_12/259-2211892-7611214?_encoding=UTF8&psc=1&refRID=DCFV8K75XPR9G08BZBFY',\n",
       " 'https://www.amazon.in/gp/help/customer/display.html?ie=UTF8&nodeId=GDFU3JS5AL6SYHRD&ref_=footer_covid',\n",
       " 'https://www.amazon.in/HP-X1000-Wired-Mouse-Black/dp/B009VCGPSY/ref=zg_bs_electronics_49/259-2211892-7611214?_encoding=UTF8&psc=1&refRID=DCFV8K75XPR9G08BZBFY',\n",
       " 'https://www.amazon.in/b/?_encoding=UTF8&node=1389401031&ref_=sv_top_elec_mega_1',\n",
       " 'https://www.amazon.in/gp/browse.html?node=21102587031&ref_=nav_ya_flyout_b2b_reg',\n",
       " 'https://www.amazon.in/b/?node=6637738031&ref_=nav_cs_amazonbasics',\n",
       " 'https://www.amazon.in/gp/css/homepage.html?ref_=nav_AccountFlyout_ya',\n",
       " 'https://www.amazon.in/Online-Charity/b?ie=UTF8&node=4594605031&ref_=footer_smile',\n",
       " 'https://www.amazon.in/Test-Exclusive-668/dp/B07HGH88GL/ref=zg_bs_electronics_15/259-2211892-7611214?_encoding=UTF8&psc=1&refRID=DCFV8K75XPR9G08BZBFY',\n",
       " 'https://www.amazon.in/pTron-Bassbuds-Wireless-Bluetooth-Headphones/dp/B07WSHWNH8/ref=zg_bs_electronics_23/259-2211892-7611214?_encoding=UTF8&psc=1&refRID=DCFV8K75XPR9G08BZBFY',\n",
       " 'https://www.amazon.in/b?ie=UTF8&node=6691071031&ref_=footer_iba',\n",
       " 'https://www.amazon.in/gp/help/customer/display.html?ie=UTF8&nodeId=200534380&ref_=footer_privacy',\n",
       " 'https://www.amazon.in/now?ref=footer_amznow',\n",
       " 'https://www.amazon.in/gp/primecentral?ref_=nav_AccountFlyout_prime',\n",
       " 'https://www.amazon.in/music/prime?ref=footer_apm',\n",
       " 'https://www.amazon.in/business?ref=footer_aingw',\n",
       " 'https://www.amazon.in/Boat-BassHeads-100-Inspired-Earphones/dp/B07GQD4K6L/ref=zg_bs_electronics_17/259-2211892-7611214?_encoding=UTF8&psc=1&refRID=DCFV8K75XPR9G08BZBFY',\n",
       " 'https://www.amazon.in/b/?_encoding=UTF8&node=976392031&ref_=sv_top_elec_mega_2',\n",
       " 'https://www.amazon.in/Rugged-Extra-Tough-Unbreakable-Braided/dp/B0789LZTCJ/ref=zg_bs_electronics_36/259-2211892-7611214?_encoding=UTF8&psc=1&refRID=DCFV8K75XPR9G08BZBFY&smid=A14CZOWI0VEHLG',\n",
       " 'https://www.amazon.in/gp/help/customer/display.html?ie=UTF8&nodeId=200545940&ref_=footer_cou',\n",
       " 'https://www.amazon.in/realme-Classic-Earphones-Microphone-Organiser/dp/B08G28Z33M/ref=zg_bs_electronics_27/259-2211892-7611214?_encoding=UTF8&psc=1&refRID=DCFV8K75XPR9G08BZBFY',\n",
       " 'https://www.amazon.in/computers-and-accessories/b/?ie=UTF8&node=976392031&ref_=nav_cs_pc',\n",
       " 'https://www.amazon.in/Samsung-Galaxy-Ocean-Blue-Storage/dp/B07HGJKDQL/ref=zg_bs_electronics_21/259-2211892-7611214?_encoding=UTF8&psc=1&refRID=DCFV8K75XPR9G08BZBFY',\n",
       " 'https://www.amazon.in/Tangent-Lite-Magnetic-Bluetooth-Headphones/dp/B085W8CFLH/ref=zg_bs_electronics_48/259-2211892-7611214?_encoding=UTF8&psc=1&refRID=DCFV8K75XPR9G08BZBFY&smid=A14CZOWI0VEHLG',\n",
       " 'https://www.amazon.in/gp/bestsellers/?ref_=nav_cs_bestsellers',\n",
       " 'https://www.amazon.in/gp/yourstore/pym/ref=pd_pyml_rhf/259-2211892-7611214',\n",
       " 'https://www.amazon.in/baby-reg/homepage?ref_=nav_ListFlyout_gno_listpop_br',\n",
       " 'https://www.amazon.in/ref=nav_logo',\n",
       " 'https://www.amazon.in/gp/css/homepage.html?ie=UTF8&ref_=footer_ya',\n",
       " 'https://www.amazon.in/rd/uedata?tepes=1&id=DCFV8K75XPR9G08BZBFY',\n",
       " 'https://www.amazon.in/Redmi-Note-Arctic-White-Storage/dp/B086982ZKF/ref=zg_bs_electronics_14/259-2211892-7611214?_encoding=UTF8&psc=1&refRID=DCFV8K75XPR9G08BZBFY',\n",
       " 'https://www.amazon.in/b/?node=2838698031&ld=AZINSOANavDesktop&ref_=nav_cs_sell',\n",
       " 'https://www.amazon.in/GM-Modular-3060-Book-Multicolour/dp/B008XT42JU/ref=zg_bs_electronics_47/259-2211892-7611214?_encoding=UTF8&psc=1&refRID=DCFV8K75XPR9G08BZBFY',\n",
       " 'https://www.amazon.in/Airdopes-441-Technology-Immersive-Resistance/dp/B086WM3RB8/ref=zg_bs_electronics_42/259-2211892-7611214?_encoding=UTF8&psc=1&refRID=DCFV8K75XPR9G08BZBFY',\n",
       " 'https://www.amazon.in/electronics/b/?ie=UTF8&node=976419031&ref_=topnav_storetab_top_elec_mega',\n",
       " 'https://www.amazon.in/Books/b/?ie=UTF8&node=976389031&ref_=nav_cs_books',\n",
       " 'https://www.amazon.in/OnePlus-Bullets-Wireless-Bluetooth-Earphones/dp/B086CSGV2N/ref=zg_bs_electronics_5/259-2211892-7611214?_encoding=UTF8&psc=1&refRID=DCFV8K75XPR9G08BZBFY',\n",
       " 'https://www.amazon.in/gp/css/order-history?ref_=nav_orders_first',\n",
       " 'https://www.amazon.in/pantry-online-grocery-shopping-store/b/?ie=UTF8&node=9574332031&ref_=nav_cs_pantry',\n",
       " 'https://www.amazon.in/b/?_encoding=UTF8&node=1375248031&ref_=sv_top_elec_mega_6',\n",
       " 'https://www.amazon.in/JBL-C100SI-Ear-Headphones-Black/dp/B01DEWVZ2C/ref=zg_bs_electronics_20/259-2211892-7611214?_encoding=UTF8&psc=1&refRID=DCFV8K75XPR9G08BZBFY',\n",
       " 'https://www.amazon.in/realme-RMA108-Realme-Buds-Wireless/dp/B07XJWTYM2/ref=zg_bs_electronics_35/259-2211892-7611214?_encoding=UTF8&psc=1&refRID=DCFV8K75XPR9G08BZBFY',\n",
       " 'https://www.amazon.in/OnePlus-Bullets-Wireless-Bluetooth-Earphones/dp/B087VNBXP5/ref=zg_bs_electronics_38/259-2211892-7611214?_encoding=UTF8&psc=1&refRID=DCFV8K75XPR9G08BZBFY',\n",
       " 'https://www.amazon.in/Rockerz-450-Wireless-Bluetooth-Headphone/dp/B07PR1CL3S/ref=zg_bs_electronics_24/259-2211892-7611214?_encoding=UTF8&psc=1&refRID=DCFV8K75XPR9G08BZBFY',\n",
       " 'https://www.amazon.in/prime?ref_=nav_prime_try_btn',\n",
       " 'https://www.amazon.in/PTron-HBE6-Headphone-Earphone-Headset/dp/B07D4CN9T7/ref=zg_bs_electronics_45/259-2211892-7611214?_encoding=UTF8&psc=1&refRID=DCFV8K75XPR9G08BZBFY',\n",
       " 'https://www.amazon.in/b/?_encoding=UTF8&node=1388977031&ref_=sv_top_elec_mega_5',\n",
       " 'https://www.amazon.in/Samsung-Galaxy-Storage-Additional-Exchange/dp/B086KCCMCP/ref=zg_bs_electronics_19/259-2211892-7611214?_encoding=UTF8&psc=1&refRID=DCFV8K75XPR9G08BZBFY',\n",
       " 'https://www.amazon.in/Test-Exclusive-614/dp/B07HGJJ559/ref=zg_bs_electronics_3/259-2211892-7611214?_encoding=UTF8&psc=1&refRID=DCFV8K75XPR9G08BZBFY',\n",
       " 'https://www.amazon.in/hz/mycd/myx?ref_=nav_AccountFlyout_myk',\n",
       " 'https://www.amazon.in/gp/prime/ref=nav_prime_ajax_err/259-2211892-7611214',\n",
       " 'https://www.amazon.in/boAt-BassHeads-100-Headphones-Black/dp/B071Z8M4KX/ref=zg_bs_electronics_10/259-2211892-7611214?_encoding=UTF8&psc=1&refRID=DCFV8K75XPR9G08BZBFY',\n",
       " 'https://www.amazon.in/Realme-Buds-Android-Smartphones-Black/dp/B07XMFDHSG/ref=zg_bs_electronics_6/259-2211892-7611214?_encoding=UTF8&psc=1&refRID=DCFV8K75XPR9G08BZBFY',\n",
       " 'https://www.amazon.in/gp/goldbox?ref_=nav_cs_gb',\n",
       " 'https://www.amazon.in/Boat-Bassheads-242-Earphones-Resistance/dp/B07S9S86BF/ref=zg_bs_electronics_40/259-2211892-7611214?_encoding=UTF8&psc=1&refRID=DCFV8K75XPR9G08BZBFY',\n",
       " 'https://www.amazon.in/Test-Exclusive-667/dp/B07HGH8D2R/ref=zg_bs_electronics_7/259-2211892-7611214?_encoding=UTF8&psc=1&refRID=DCFV8K75XPR9G08BZBFY',\n",
       " 'https://www.amazon.in/Redmi-8A-Dual-Midnight-Storage/dp/B07X1KSLC3/ref=zg_bs_electronics_8/259-2211892-7611214?_encoding=UTF8&psc=1&refRID=DCFV8K75XPR9G08BZBFY',\n",
       " 'https://www.amazon.in/b/?node=2838698031&ld=AZINSOAYAFlyout&ref_=nav_AccountFlyout_sell',\n",
       " 'https://www.amazon.in/255-Bluetooth-Wireless-Earphone-Immersive/dp/B07C2VJXP4/ref=zg_bs_electronics_16/259-2211892-7611214?_encoding=UTF8&psc=1&refRID=DCFV8K75XPR9G08BZBFY',\n",
       " 'https://www.amazon.in/JBL-C50HI-Ear-Headphones-Black/dp/B07JQKQ91F/ref=zg_bs_electronics_41/259-2211892-7611214?_encoding=UTF8&psc=1&refRID=DCFV8K75XPR9G08BZBFY',\n",
       " 'https://www.amazon.in/Logitech-B170-Wireless-Mouse-Black/dp/B01J0XWYKQ/ref=zg_bs_electronics_43/259-2211892-7611214?_encoding=UTF8&psc=1&refRID=DCFV8K75XPR9G08BZBFY',\n",
       " 'https://www.amazon.in/gp/subscribe-and-save/manage?ref_=nav_AccountFlyout_sns',\n",
       " 'https://www.amazon.in/gp/css/order-history?ref_=nav_AccountFlyout_orders',\n",
       " 'https://www.amazon.in/mobile-phones/b/?ie=UTF8&node=1389401031&ref_=nav_cs_mobiles',\n",
       " 'https://www.amazon.in/amazon-coupons/b/?_encoding=UTF8&node=10465704031&ref_=nav_cs_coupons',\n",
       " 'https://www.amazon.in/boAt-BassHeads-100-Headphones-White/dp/B07234XXJF/ref=zg_bs_electronics_32/259-2211892-7611214?_encoding=UTF8&psc=1&refRID=DCFV8K75XPR9G08BZBFY']"
      ]
     },
     "execution_count": 10,
     "metadata": {},
     "output_type": "execute_result"
    }
   ],
   "source": [
    "page_links = [f'https://www.amazon.in{x}' for x in new_links]\n",
    "page_links"
   ]
  },
  {
   "cell_type": "code",
   "execution_count": 11,
   "metadata": {},
   "outputs": [],
   "source": [
    "def scrape_product_page(url, title_lookup = \"#productTitle\", price_lookup = \"#priceblock_ourprice\"):\n",
    "    driver.get(url)\n",
    "    time.sleep(2)\n",
    "    body_el = driver.find_element_by_css_selector('body')\n",
    "    html_str = body_el.get_attribute('innerHTML')\n",
    "    html_obj = HTML(html=html_str)\n",
    "    product_title = html_obj.find(title_lookup, first=True).text\n",
    "    product_price = html_obj.find(price_lookup, first=True).text\n",
    "    return product_title, product_price"
   ]
  },
  {
   "cell_type": "code",
   "execution_count": 12,
   "metadata": {},
   "outputs": [],
   "source": [
    "# first_product_link = page_links[0]"
   ]
  },
  {
   "cell_type": "code",
   "execution_count": null,
   "metadata": {},
   "outputs": [
    {
     "name": "stdout",
     "output_type": "stream",
     "text": [
      "https://www.amazon.in/Cosmic-Byte-Headphones-Laptop-Android/dp/B074123WSD/ref=zg_bs_electronics_50/259-2211892-7611214?_encoding=UTF8&psc=1&refRID=DCFV8K75XPR9G08BZBFY Cosmic Byte GS410 Headphones with Mic and for PS4, Xbox One, Laptop, PC, iPhone and Android Phones (Black/Blue) 1,049.00\n",
      "https://www.amazon.in/Samsung-Galaxy-Storage-Additional-Exchange/dp/B086KCDGTQ/ref=zg_bs_electronics_28/259-2211892-7611214?_encoding=UTF8&psc=1&refRID=DCFV8K75XPR9G08BZBFY Samsung Galaxy M01 (Blue, 3GB RAM, 32GB Storage) with No Cost EMI/Additional Exchange Offers ₹ 8,399.00\n",
      "https://www.amazon.in/SanDisk-Ultra-Dual-64GB-Drive/dp/B0734W8FGG/ref=zg_bs_electronics_31/259-2211892-7611214?_encoding=UTF8&psc=1&refRID=DCFV8K75XPR9G08BZBFY SanDisk Ultra Dual 64GB USB 3.0 OTG Pen Drive (Gold) ₹ 849.00\n",
      "https://www.amazon.in/POPIO-Tempered-Samsung-Transparent-Coverage/dp/B08547T1SD/ref=zg_bs_electronics_37/259-2211892-7611214?_encoding=UTF8&psc=1&refRID=DCFV8K75XPR9G08BZBFY POPIO Tempered Glass for Samsung Galaxy M31/ Samsung Galaxy M21 (Transparent) Full Screen Coverage (except edges), Pack of 1 ₹ 150.00\n",
      "https://www.amazon.in/ELV-PS2-Mobile-Stand-Black/dp/B0762JYGDP/ref=zg_bs_electronics_34/259-2211892-7611214?_encoding=UTF8&psc=1&refRID=DCFV8K75XPR9G08BZBFY ELV Desktop Cell Phone Stand Tablet Stand, Aluminum Stand Holder for Mobile Phone (All Size) and Tablet (Up to 10.1 inch) - Black ₹ 148.00\n",
      "https://www.amazon.in/Test-Exclusive-712/dp/B07DJCJBB3/ref=zg_bs_electronics_9/259-2211892-7611214?_encoding=UTF8&psc=1&refRID=DCFV8K75XPR9G08BZBFY Samsung Galaxy M31s (Mirage Blue, 8GB RAM, 128GB Storage) ₹ 21,499.00\n"
     ]
    }
   ],
   "source": [
    "for link in page_links:\n",
    "    title, price = (None, None)\n",
    "    try:\n",
    "        title, price = scrape_product_page(link)\n",
    "    except:\n",
    "        pass\n",
    "    if title != None and price != None:\n",
    "        print(link, title, price)"
   ]
  },
  {
   "cell_type": "code",
   "execution_count": null,
   "metadata": {},
   "outputs": [],
   "source": []
  }
 ],
 "metadata": {
  "kernelspec": {
   "display_name": "Python 3",
   "language": "python",
   "name": "python3"
  },
  "language_info": {
   "codemirror_mode": {
    "name": "ipython",
    "version": 3
   },
   "file_extension": ".py",
   "mimetype": "text/x-python",
   "name": "python",
   "nbconvert_exporter": "python",
   "pygments_lexer": "ipython3",
   "version": "3.8.5"
  }
 },
 "nbformat": 4,
 "nbformat_minor": 4
}
