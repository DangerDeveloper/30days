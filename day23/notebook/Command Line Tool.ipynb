{
 "cells": [
  {
   "cell_type": "code",
   "execution_count": null,
   "metadata": {},
   "outputs": [],
   "source": [
    "# name = input(\"What's your name?\") or 'AAA'\n",
    "tries = 0\n",
    "while True:\n",
    "    name = input(\"What's your name?\\n\")\n",
    "    if name:\n",
    "        break\n",
    "    else:\n",
    "        tries += 1\n",
    "    if tries > 10:\n",
    "        break\n",
    "    else:\n",
    "        continue"
   ]
  },
  {
   "cell_type": "code",
   "execution_count": null,
   "metadata": {},
   "outputs": [],
   "source": [
    "name"
   ]
  },
  {
   "cell_type": "code",
   "execution_count": null,
   "metadata": {},
   "outputs": [],
   "source": [
    "a = ''\n",
    "\n",
    "if a:\n",
    "    print('a')\n",
    "else:\n",
    "    print('b')"
   ]
  },
  {
   "cell_type": "code",
   "execution_count": null,
   "metadata": {},
   "outputs": [],
   "source": [
    "from getpass import getpass\n",
    "pw = getpass(\"What's Your passsword\\n\")"
   ]
  },
  {
   "cell_type": "code",
   "execution_count": null,
   "metadata": {},
   "outputs": [],
   "source": [
    "pw"
   ]
  },
  {
   "cell_type": "code",
   "execution_count": null,
   "metadata": {},
   "outputs": [],
   "source": [
    "%%writefile raw_input.py\n",
    "\n",
    "from getpass import getpass\n",
    "name = input(\"What's your name?\\n\")\n",
    "pw = getpass(\"What's Your passsword\\n\")\n",
    "\n",
    "print(name, pw)"
   ]
  },
  {
   "cell_type": "code",
   "execution_count": 5,
   "metadata": {},
   "outputs": [
    {
     "name": "stdout",
     "output_type": "stream",
     "text": [
      "Overwriting cli_sys.py\n"
     ]
    }
   ],
   "source": [
    "%%writefile cli_sys.py\n",
    "import sys\n",
    "from getpass import getpass\n",
    "\n",
    "if __name__ == \"__main__\":\n",
    "    try:\n",
    "        name = sys.argv[1]\n",
    "    except:\n",
    "        name = input(\"What's your name?\\n\")\n",
    "    pw = getpass(\"What's Your passsword\\n\")\n",
    "    print(name, pw)\n",
    "    "
   ]
  },
  {
   "cell_type": "code",
   "execution_count": 6,
   "metadata": {},
   "outputs": [
    {
     "name": "stdout",
     "output_type": "stream",
     "text": [
      "Writing cli_argparse.py\n"
     ]
    }
   ],
   "source": [
    "%%writefile cli_argparse.py\n",
    "import argparse\n",
    "\n",
    "def my_const_fun(*args, **kwargs):\n",
    "    print(*args, **kwargs)\n",
    "\n",
    "def my_default_fun(*args, **kwargs):\n",
    "    print(*args, **kwargs)\n",
    "    \n",
    "if __name__ == '__main__':\n",
    "    parser = argparse.ArgumentParser()\n",
    "    parser.add_argument('integers', type=int, nargs='+')\n",
    "    parser.add_argument('--sum', dest='accumulate', action='store_const', const=sum, default=max)\n",
    "    parser.add_argument('--math', dest='math_is_fun', action='store_const', const=my_const_fun, default=my_default_fun)\n",
    "    args = parser.parse_args()\n",
    "    print(args.accumulate(args.integers))\n",
    "    print(args.math_is_fun(args.integers))"
   ]
  },
  {
   "cell_type": "code",
   "execution_count": 7,
   "metadata": {},
   "outputs": [
    {
     "name": "stdout",
     "output_type": "stream",
     "text": [
      "Collecting fire\n",
      "  Downloading fire-0.3.1.tar.gz (81 kB)\n",
      "Requirement already satisfied: six in c:\\users\\ajays\\appdata\\local\\programs\\python\\python38\\lib\\site-packages (from fire) (1.15.0)\n",
      "Collecting termcolor\n",
      "  Downloading termcolor-1.1.0.tar.gz (3.9 kB)\n",
      "Using legacy 'setup.py install' for fire, since package 'wheel' is not installed.\n",
      "Using legacy 'setup.py install' for termcolor, since package 'wheel' is not installed.\n",
      "Installing collected packages: termcolor, fire\n",
      "    Running setup.py install for termcolor: started\n",
      "    Running setup.py install for termcolor: finished with status 'done'\n",
      "    Running setup.py install for fire: started\n",
      "    Running setup.py install for fire: finished with status 'done'\n",
      "Successfully installed fire-0.3.1 termcolor-1.1.0\n"
     ]
    },
    {
     "name": "stderr",
     "output_type": "stream",
     "text": [
      "WARNING: You are using pip version 20.2; however, version 20.2.2 is available.\n",
      "You should consider upgrading via the 'c:\\users\\ajays\\appdata\\local\\programs\\python\\python38\\python.exe -m pip install --upgrade pip' command.\n"
     ]
    }
   ],
   "source": [
    "!pip install fire"
   ]
  },
  {
   "cell_type": "code",
   "execution_count": 8,
   "metadata": {},
   "outputs": [
    {
     "name": "stdout",
     "output_type": "stream",
     "text": [
      "Collecting pip\n",
      "  Downloading pip-20.2.2-py2.py3-none-any.whl (1.5 MB)\n",
      "Installing collected packages: pip\n",
      "  Attempting uninstall: pip\n",
      "    Found existing installation: pip 20.2\n",
      "    Uninstalling pip-20.2:\n",
      "      Successfully uninstalled pip-20.2\n"
     ]
    },
    {
     "name": "stderr",
     "output_type": "stream",
     "text": [
      "ERROR: Could not install packages due to an EnvironmentError: [WinError 5] Access is denied: 'C:\\\\Users\\\\ajays\\\\AppData\\\\Local\\\\Temp\\\\pip-uninstall-oj3ua1c7\\\\pip.exe'\n",
      "Consider using the `--user` option or check the permissions.\n",
      "\n"
     ]
    }
   ],
   "source": [
    "!pip install --upgrade pip"
   ]
  },
  {
   "cell_type": "code",
   "execution_count": 9,
   "metadata": {},
   "outputs": [
    {
     "name": "stdout",
     "output_type": "stream",
     "text": [
      "Writing cli_fire.py\n"
     ]
    }
   ],
   "source": [
    "%%writefile cli_fire.py\n",
    "import fire\n",
    "\n",
    "def hello(name='world'):\n",
    "    return f'hello {name}'\n",
    "\n",
    "if __name__ == \"__main__\":\n",
    "    fire.Fire(hello)"
   ]
  },
  {
   "cell_type": "code",
   "execution_count": 10,
   "metadata": {},
   "outputs": [
    {
     "name": "stdout",
     "output_type": "stream",
     "text": [
      "Writing cli_fire_inputs.py\n"
     ]
    }
   ],
   "source": [
    "%%writefile cli_fire_inputs.py\n",
    "from getpass import getpass\n",
    "import fire\n",
    "\n",
    "def login(name=None):\n",
    "    if name is None:\n",
    "        name = input(\"What's your name?\\n\")\n",
    "    pw = getpass(\"What's Your passsword\\n\")\n",
    "    return name, pw\n",
    "\n",
    "if __name__ == \"__main__\":\n",
    "    fire.Fire(login)"
   ]
  },
  {
   "cell_type": "code",
   "execution_count": null,
   "metadata": {},
   "outputs": [],
   "source": [
    "%%writefile cli_fire_pipeline.py\n",
    "import fire\n",
    "from getpass import getpass\n",
    "\n",
    "class Auth(object):\n",
    "    def login(self, username=None):\n",
    "        if username is None:\n",
    "            username = input('Username:  ')\n",
    "        if username is None:\n",
    "            print('A Username is required')\n",
    "            return\n",
    "        pw = getpass('Password:  ')\n",
    "        return username, pw\n",
    "\n",
    "def login(username=None):\n",
    "    if username is None:\n",
    "        username = input('Username:  ')\n",
    "    if username is None:\n",
    "        print('A Username is required')\n",
    "        return\n",
    "    pw = getpass('Password:  ')\n",
    "    return username, pw\n",
    "\n",
    "def scrape_tag(tag = 'python', query_filter = 'Votes', pagesize=10, max_page=5):\n",
    "    base_url = 'https://stackoverflow.com/questions/tagged/'\n",
    "    datas = []\n",
    "    for p in range(max_page):\n",
    "        page_num = p + 1\n",
    "        url = f'{base_url}{tag}?tab={query_filter}&page={page_num}&pagesize={pagesize}'\n",
    "        datas.append(url)\n",
    "    return datas\n",
    "\n",
    "class Pipeline(object):\n",
    "    def __init__(self):\n",
    "        self.scrape = scrape_tag\n",
    "        self.auth = Auth()\n",
    "        self.login = login\n",
    "\n",
    "if __name__ == \"__main__\":\n",
    "    fire.Fire(Pipeline)"
   ]
  }
 ],
 "metadata": {
  "kernelspec": {
   "display_name": "Python 3",
   "language": "python",
   "name": "python3"
  },
  "language_info": {
   "codemirror_mode": {
    "name": "ipython",
    "version": 3
   },
   "file_extension": ".py",
   "mimetype": "text/x-python",
   "name": "python",
   "nbconvert_exporter": "python",
   "pygments_lexer": "ipython3",
   "version": "3.8.5"
  }
 },
 "nbformat": 4,
 "nbformat_minor": 4
}
