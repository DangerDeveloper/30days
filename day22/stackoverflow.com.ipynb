{
 "cells": [
  {
   "cell_type": "code",
   "execution_count": 135,
   "metadata": {},
   "outputs": [],
   "source": [
    "import requests\n",
    "from requests_html import HTML\n",
    "import time\n",
    "import pandas as pd"
   ]
  },
  {
   "cell_type": "code",
   "execution_count": 82,
   "metadata": {},
   "outputs": [
    {
     "data": {
      "text/plain": [
       "'https://stackoverflow.com/questions/tagged/python?tab=Votes'"
      ]
     },
     "execution_count": 82,
     "metadata": {},
     "output_type": "execute_result"
    }
   ],
   "source": [
    "base_url = 'https://stackoverflow.com/questions/tagged/'\n",
    "tag = 'python'\n",
    "query_filter = 'Votes'\n",
    "url = f'{base_url}{tag}?tab={query_filter}'\n",
    "url"
   ]
  },
  {
   "cell_type": "code",
   "execution_count": 83,
   "metadata": {},
   "outputs": [],
   "source": [
    "r = requests.get(url)\n",
    "html_text = r.text\n",
    "html = HTML(html=html_text)"
   ]
  },
  {
   "cell_type": "code",
   "execution_count": null,
   "metadata": {},
   "outputs": [],
   "source": []
  },
  {
   "cell_type": "code",
   "execution_count": 84,
   "metadata": {},
   "outputs": [],
   "source": [
    "question_summary = html.find('.question-summary')"
   ]
  },
  {
   "cell_type": "code",
   "execution_count": 85,
   "metadata": {},
   "outputs": [],
   "source": [
    "# print(question_summary)\n",
    "# print(question_summary[2].text)"
   ]
  },
  {
   "cell_type": "code",
   "execution_count": 86,
   "metadata": {},
   "outputs": [],
   "source": [
    "# columns = ['votes', 'vote_title', 'num_answers', 'views', 'question', 'short_desc', 'tags', 'date', 'user', 'user_detail']\n",
    "# this_row = list(question_summary[0].text.split('\\n'))\n",
    "# row_data = dict(zip(columns, this_row))"
   ]
  },
  {
   "cell_type": "code",
   "execution_count": 87,
   "metadata": {},
   "outputs": [
    {
     "data": {
      "text/plain": [
       "'10464'"
      ]
     },
     "execution_count": 87,
     "metadata": {},
     "output_type": "execute_result"
    }
   ],
   "source": [
    "key_names = ['question', 'votes', 'tags ']\n",
    "classes_needed = ['.question-hyperlink', '.vote', '.tags']\n",
    "this_question_element = question_summary[0]\n",
    "this_question_element.find('.question-hyperlink', first=True).text\n",
    "this_question_element.find('.vote', first=True).text.replace('\\nvotes', '')"
   ]
  },
  {
   "cell_type": "code",
   "execution_count": 88,
   "metadata": {},
   "outputs": [],
   "source": [
    "def clean_scraped_data(text, keyname=None):\n",
    "    if keyname == 'votes':\n",
    "        return text.replace('\\nvotes', '')\n",
    "    return text"
   ]
  },
  {
   "cell_type": "code",
   "execution_count": 89,
   "metadata": {},
   "outputs": [],
   "source": [
    "datas = []\n",
    "\n",
    "for q_el in question_summary:\n",
    "    question_data = {}\n",
    "    for i, _class in enumerate(classes_needed):\n",
    "        sub_el = q_el.find(_class, first=True)\n",
    "        keyname = key_names[i]\n",
    "        question_data[keyname] = clean_scraped_data(sub_el.text, keyname=keyname)\n",
    "    datas.append(question_data)"
   ]
  },
  {
   "cell_type": "code",
   "execution_count": 116,
   "metadata": {},
   "outputs": [],
   "source": [
    "def parse_tagged_page(html):\n",
    "    question_summary = html.find('.question-summary')\n",
    "    key_names = ['question', 'votes', 'tags ']\n",
    "    classes_needed = ['.question-hyperlink', '.vote', '.tags']\n",
    "    datas = []\n",
    "    for q_el in question_summary:\n",
    "        question_data = {}\n",
    "        for i, _class in enumerate(classes_needed):\n",
    "            sub_el = q_el.find(_class, first=True)\n",
    "            keyname = key_names[i]\n",
    "            question_data[keyname] = clean_scraped_data(sub_el.text, keyname=keyname)\n",
    "        datas.append(question_data)\n",
    "    return datas"
   ]
  },
  {
   "cell_type": "code",
   "execution_count": 142,
   "metadata": {},
   "outputs": [],
   "source": [
    "def extract_data_from_url(url):\n",
    "    r = requests.get(url)\n",
    "    if r.status_code not in range(200, 299):\n",
    "        return []\n",
    "    html_text = r.text\n",
    "    html = HTML(html=html_text)\n",
    "    dat = parse_tagged_page(html)\n",
    "    return dat"
   ]
  },
  {
   "cell_type": "code",
   "execution_count": 143,
   "metadata": {},
   "outputs": [],
   "source": [
    "def scrape_tag(tag = 'python', query_filter = 'Votes', pagesize=10, max_page=1):\n",
    "    base_url = 'https://stackoverflow.com/questions/tagged/'\n",
    "    datas = []\n",
    "    for p in range(max_page):\n",
    "        page_num = p + 1\n",
    "        url = f'{base_url}{tag}?tab={query_filter}&page={page_num}&pagesize={pagesize}'\n",
    "        datas += extract_data_from_url(url)\n",
    "        time.sleep(1.3)\n",
    "    return datas"
   ]
  },
  {
   "cell_type": "code",
   "execution_count": 144,
   "metadata": {},
   "outputs": [],
   "source": [
    "datas = scrape_tag(max_page=1)"
   ]
  },
  {
   "cell_type": "code",
   "execution_count": 145,
   "metadata": {},
   "outputs": [
    {
     "data": {
      "text/plain": [
       "50"
      ]
     },
     "execution_count": 145,
     "metadata": {},
     "output_type": "execute_result"
    }
   ],
   "source": [
    "len(datas)"
   ]
  },
  {
   "cell_type": "code",
   "execution_count": 146,
   "metadata": {},
   "outputs": [
    {
     "data": {
      "text/html": [
       "<div>\n",
       "<style scoped>\n",
       "    .dataframe tbody tr th:only-of-type {\n",
       "        vertical-align: middle;\n",
       "    }\n",
       "\n",
       "    .dataframe tbody tr th {\n",
       "        vertical-align: top;\n",
       "    }\n",
       "\n",
       "    .dataframe thead th {\n",
       "        text-align: right;\n",
       "    }\n",
       "</style>\n",
       "<table border=\"1\" class=\"dataframe\">\n",
       "  <thead>\n",
       "    <tr style=\"text-align: right;\">\n",
       "      <th></th>\n",
       "      <th>question</th>\n",
       "      <th>votes</th>\n",
       "      <th>tags</th>\n",
       "    </tr>\n",
       "  </thead>\n",
       "  <tbody>\n",
       "    <tr>\n",
       "      <th>0</th>\n",
       "      <td>What does the “yield” keyword do?</td>\n",
       "      <td>10464</td>\n",
       "      <td>python iterator generator yield coroutine</td>\n",
       "    </tr>\n",
       "    <tr>\n",
       "      <th>1</th>\n",
       "      <td>What does if __name__ == “__main__”: do?</td>\n",
       "      <td>6262</td>\n",
       "      <td>python namespaces main python-module idioms</td>\n",
       "    </tr>\n",
       "    <tr>\n",
       "      <th>2</th>\n",
       "      <td>Does Python have a ternary conditional operator?</td>\n",
       "      <td>6202</td>\n",
       "      <td>python operators ternary-operator conditional-...</td>\n",
       "    </tr>\n",
       "    <tr>\n",
       "      <th>3</th>\n",
       "      <td>What are metaclasses in Python?</td>\n",
       "      <td>5833</td>\n",
       "      <td>python oop metaclass python-datamodel</td>\n",
       "    </tr>\n",
       "    <tr>\n",
       "      <th>4</th>\n",
       "      <td>How do I check whether a file exists without e...</td>\n",
       "      <td>5740</td>\n",
       "      <td>python file file-exists</td>\n",
       "    </tr>\n",
       "  </tbody>\n",
       "</table>\n",
       "</div>"
      ],
      "text/plain": [
       "                                            question  votes  \\\n",
       "0                  What does the “yield” keyword do?  10464   \n",
       "1           What does if __name__ == “__main__”: do?   6262   \n",
       "2   Does Python have a ternary conditional operator?   6202   \n",
       "3                    What are metaclasses in Python?   5833   \n",
       "4  How do I check whether a file exists without e...   5740   \n",
       "\n",
       "                                               tags   \n",
       "0          python iterator generator yield coroutine  \n",
       "1        python namespaces main python-module idioms  \n",
       "2  python operators ternary-operator conditional-...  \n",
       "3              python oop metaclass python-datamodel  \n",
       "4                            python file file-exists  "
      ]
     },
     "execution_count": 146,
     "metadata": {},
     "output_type": "execute_result"
    }
   ],
   "source": [
    "df = pd.DataFrame(datas)\n",
    "df.head()"
   ]
  },
  {
   "cell_type": "code",
   "execution_count": 148,
   "metadata": {},
   "outputs": [],
   "source": [
    "df.to_csv(\"python.csv\", index=False)"
   ]
  },
  {
   "cell_type": "code",
   "execution_count": null,
   "metadata": {},
   "outputs": [],
   "source": []
  }
 ],
 "metadata": {
  "kernelspec": {
   "display_name": "Python 3",
   "language": "python",
   "name": "python3"
  },
  "language_info": {
   "codemirror_mode": {
    "name": "ipython",
    "version": 3
   },
   "file_extension": ".py",
   "mimetype": "text/x-python",
   "name": "python",
   "nbconvert_exporter": "python",
   "pygments_lexer": "ipython3",
   "version": "3.8.5"
  }
 },
 "nbformat": 4,
 "nbformat_minor": 4
}
